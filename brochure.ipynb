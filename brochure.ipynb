{
 "cells": [
  {
   "cell_type": "code",
   "execution_count": 1,
   "id": "edb07a81-03e3-45fa-9e48-7ebe7e95e02e",
   "metadata": {},
   "outputs": [],
   "source": [
    "import requests\n",
    "import json\n",
    "from typing import List\n",
    "from bs4 import BeautifulSoup\n",
    "from IPython.display import Markdown, display, update_display\n",
    "import ollama"
   ]
  },
  {
   "cell_type": "code",
   "execution_count": 14,
   "id": "5bb93b00-10e9-4c0a-bb8a-d57f8513cf06",
   "metadata": {},
   "outputs": [],
   "source": [
    "MODEL = \"mistral:7b\""
   ]
  },
  {
   "cell_type": "code",
   "execution_count": 22,
   "id": "56e2e9d2-2c37-44f7-8afb-b32d333aa376",
   "metadata": {},
   "outputs": [],
   "source": [
    "headers = {\n",
    " \"User-Agent\": \"Mozilla/5.0 (Windows NT 10.0; Win64; x64) AppleWebKit/537.36 (KHTML, like Gecko) Chrome/117.0.0.0 Safari/537.36\"\n",
    "}\n",
    "\n",
    "class Website:\n",
    "\n",
    "    def __init__(self, url):\n",
    "        self.url = url\n",
    "        response = requests.get(url, headers)\n",
    "        self.body = response.content\n",
    "        soup = BeautifulSoup(self.body, \"html.parser\")\n",
    "        self.title = soup.title.string if soup.title else \"No title found\"\n",
    "        if soup.body:\n",
    "            for irrelevant in soup.body([\"script\", \"style\", \"img\", \"input\"]):\n",
    "                irrelevant.decompose()\n",
    "            self.text = soup.body.get_text(separator=\"\\n\", strip=True)\n",
    "        else:\n",
    "            self.text = \"\"\n",
    "        links = [link.get('href') for link in soup.find_all('a')]\n",
    "        self.links = [link for link in links if link]\n",
    "        \n",
    "    def get_contents(self):\n",
    "        return f\"Webpage Title:\\n{self.title}\\nWebpage Contents:\\n{self.text}\\n\\n\""
   ]
  },
  {
   "cell_type": "code",
   "execution_count": 23,
   "id": "183d0932-9550-45f9-8636-f2feb1101217",
   "metadata": {},
   "outputs": [],
   "source": [
    "link_system_prompt = \"You are provided with a list of links found on a webpage. \\\n",
    "You are able to decide which of the links would be most relevant to include in a brochure about the company, \\\n",
    "such as links to an About page, or a Company page, or Careers/Jobs pages.\\n\"\n",
    "link_system_prompt += \"You should respond in JSON as in this example:\"\n",
    "link_system_prompt += \"\"\"\n",
    "{\n",
    "    \"links\": [\n",
    "        {\"type\": \"about page\", \"url\": \"https://full.url/goes/here/about\"},\n",
    "        {\"type\": \"careers page\", \"url\": \"https://another.full.url/careers\"}\n",
    "    ]\n",
    "}\n",
    "\"\"\""
   ]
  },
  {
   "cell_type": "code",
   "execution_count": 24,
   "id": "3cdae317-bcdb-431e-9395-9dbbd833185a",
   "metadata": {},
   "outputs": [],
   "source": [
    "def get_links_user_prompt(website):\n",
    "    user_prompt = f\"Here is the list of links on the website of {website.url} - \"\n",
    "    user_prompt += \"please decide which of these are relevant web links for a brochure about the company, respond with the full https URL in JSON format. \\\n",
    "Do not include Terms of Service, Privacy, email links.\\n\"\n",
    "    user_prompt += \"Links (some might be relative links):\\n\"\n",
    "    user_prompt += \"\\n\".join(website.links)\n",
    "    return user_prompt"
   ]
  },
  {
   "cell_type": "code",
   "execution_count": 8,
   "id": "756ec66e-b4e9-4f61-839c-01901d3dea04",
   "metadata": {},
   "outputs": [],
   "source": [
    "def get_links(url):\n",
    "    website = Website(url)\n",
    "    response= ollama.chat(\n",
    "        model=MODEL,\n",
    "        messages=[\n",
    "            {\"role\": \"system\", \"content\": link_system_prompt},\n",
    "            {\"role\": \"user\", \"content\": get_links_user_prompt(website)}\n",
    "      ]\n",
    "    )\n",
    "    result = response['message']['content']\n",
    "    return json.loads(result)\n",
    "\n"
   ]
  },
  {
   "cell_type": "code",
   "execution_count": 25,
   "id": "6be1b76d-b999-455b-a58d-c5c000f2edc3",
   "metadata": {},
   "outputs": [],
   "source": [
    "def (url):\n",
    "    result = \"Landing page:\\n\"\n",
    "    result += Website(url).get_contents()\n",
    "    links = get_links(url)\n",
    "    print(\"Found links:\", links)\n",
    "    for link in links[\"links\"]:\n",
    "        result += f\"\\n\\n{link['type']get_all_details}\\n\"\n",
    "        result += Website(link[\"url\"]).get_contents()\n",
    "    return result\n"
   ]
  },
  {
   "cell_type": "code",
   "execution_count": 27,
   "id": "ee17777a-02ae-40b0-8fba-7dd3a0e99c43",
   "metadata": {},
   "outputs": [],
   "source": [
    "system_prompt = \"You are an assistant that analyzes the contents of several relevant pages from a company website \\\n",
    "and creates a short brochure about the company for prospective customers, investors and recruits. Respond in markdown.\\\n",
    "Include details of company culture, customers and careers/jobs if you have the information.\""
   ]
  },
  {
   "cell_type": "code",
   "execution_count": 28,
   "id": "c5189b60-b2b9-4761-8235-e9d94c9049e6",
   "metadata": {},
   "outputs": [],
   "source": [
    "def get_brochure_user_prompt(company_name, url):\n",
    "    user_prompt = f\"You are looking at a company called: {company_name}\\n\"\n",
    "    user_prompt += f\"Here are the contents of its landing page and other relevant pages; use this information to build a short brochure of the company in markdown.\\n\"\n",
    "    user_prompt += get_all_details(url)\n",
    "    user_prompt = user_prompt[:5_000]\n",
    "    return user_prompt"
   ]
  },
  {
   "cell_type": "code",
   "execution_count": 29,
   "id": "aa7c3367-bd7c-4896-9dce-a9f2649ed578",
   "metadata": {},
   "outputs": [],
   "source": [
    "def create_brochure(company_name, url):\n",
    "    response = ollama.chat(\n",
    "        model=MODEL,\n",
    "        messages=[\n",
    "            {\"role\": \"system\", \"content\": system_prompt},\n",
    "            {\"role\": \"user\", \"content\": get_brochure_user_prompt(company_name, url)}\n",
    "          ]\n",
    "    )\n",
    "    result = response['message']['content']\n",
    "    display(Markdown(result))\n"
   ]
  },
  {
   "cell_type": "code",
   "execution_count": 30,
   "id": "0d9e1d6b-c401-4853-9887-744494461cdc",
   "metadata": {},
   "outputs": [
    {
     "name": "stdout",
     "output_type": "stream",
     "text": [
      "Found links: {'links': [{'type': 'about page', 'url': 'https://huggingface.co'}, {'type': 'company page', 'url': 'https://www.linkedin.com/company/huggingface/'}, {'type': 'careers page', 'url': 'https://apply.workable.com/huggingface/'}, {'type': 'enterprise page', 'url': 'https://endpoints.huggingface.co'}, {'type': 'docs page', 'url': 'https://huggingface.co/docs'}, {'type': 'blog page', 'url': 'https://huggingface.co/blog'}, {'type': 'discussion forum', 'url': 'https://discuss.huggingface.co/'}, {'type': 'github repository', 'url': 'https://github.com/huggingface'}, {'type': 'twitter page', 'url': 'https://twitter.com/huggingface'}]}\n"
     ]
    },
    {
     "data": {
      "text/markdown": [
       " # Hugging Face: The AI Community Building the Future\n",
       "\n",
       "Welcome to Hugging Face, a leading platform for collaboration on models, datasets, and applications in machine learning.\n",
       "\n",
       "## Company Culture\n",
       "Hugging Face is a vibrant community of developers, researchers, and enthusiasts dedicated to advancing AI technology. We believe in open-source and collaborative work, fostering an environment where everyone can contribute and benefit from the collective knowledge.\n",
       "\n",
       "## Customers\n",
       "Our platform serves over 50,000 organizations across various industries, including tech giants like Meta, Amazon, Google, Microsoft, Intel, Grammarly, and Writer.\n",
       "\n",
       "## Services for You\n",
       "\n",
       "### Prospective Users\n",
       "Explore our vast library of 1 million+ models and 250k+ datasets. Discover AI applications spanning text, image, video, audio, and even 3D modalities. Collaborate with the community to build your portfolio and advance in ML.\n",
       "\n",
       "### Investors\n",
       "Invest in a promising future with Hugging Face. Our platform offers paid compute and enterprise solutions, providing advanced infrastructure for AI development and enterprise-grade security, access controls, and dedicated support.\n",
       "\n",
       "### Recruits\n",
       "Join our team of innovators shaping the future of AI. Contribute to our open-source projects like Transformers, Diffusers, Tokenizers, and many more. Together, we can build the foundation for machine learning tooling.\n",
       "\n",
       "### Key Open Source Projects\n",
       "\n",
       "1. Transformers: State-of-the-art ML for PyTorch, TensorFlow, JAX\n",
       "2. Diffusers: State-of-the-art Diffusion models in PyTorch\n",
       "3. Tokenizers: Fast tokenizers optimized for research & production\n",
       "4. TRL: Train transformers LMs with reinforcement learning\n",
       "5. Datasets: Access & share datasets for any ML tasks\n",
       "6. Text Generation Inference: Serve language models with TGI optimized toolkit\n",
       "7. Accelerate: Train PyTorch models with multi-GPU, TPU, mixed precision\n",
       "8. System theme: Website themes for AI projects\n",
       "9. Transformers.js: State-of-the-art ML running directly in your browser\n",
       "10. smolagents: Smol library to build great agents in Python\n",
       "11. PEFT: Parameter-efficient finetuning for large language models\n",
       "\n",
       "Join Hugging Face today and be part of the AI community building the future!\n",
       "Sign Up [here](http://huggingface.co/signup)"
      ],
      "text/plain": [
       "<IPython.core.display.Markdown object>"
      ]
     },
     "metadata": {},
     "output_type": "display_data"
    }
   ],
   "source": [
    "create_brochure(\"HuggingFace\", \"https://huggingface.co\")"
   ]
  }
 ],
 "metadata": {
  "kernelspec": {
   "display_name": "Python 3 (ipykernel)",
   "language": "python",
   "name": "python3"
  },
  "language_info": {
   "codemirror_mode": {
    "name": "ipython",
    "version": 3
   },
   "file_extension": ".py",
   "mimetype": "text/x-python",
   "name": "python",
   "nbconvert_exporter": "python",
   "pygments_lexer": "ipython3",
   "version": "3.11.13"
  }
 },
 "nbformat": 4,
 "nbformat_minor": 5
}
