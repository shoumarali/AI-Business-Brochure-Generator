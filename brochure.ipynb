{
 "cells": [
  {
   "cell_type": "code",
   "id": "edb07a81-03e3-45fa-9e48-7ebe7e95e02e",
   "metadata": {
    "ExecuteTime": {
     "end_time": "2025-08-07T02:58:46.415045Z",
     "start_time": "2025-08-07T02:58:43.853965Z"
    }
   },
   "source": [
    "import requests\n",
    "import json\n",
    "from typing import List\n",
    "from bs4 import BeautifulSoup\n",
    "from IPython.display import Markdown, display, update_display\n",
    "import ollama\n",
    "import gradio as gr"
   ],
   "outputs": [],
   "execution_count": 2
  },
  {
   "cell_type": "code",
   "id": "5bb93b00-10e9-4c0a-bb8a-d57f8513cf06",
   "metadata": {
    "ExecuteTime": {
     "end_time": "2025-08-07T02:58:46.432248Z",
     "start_time": "2025-08-07T02:58:46.429284Z"
    }
   },
   "source": [
    "MODEL = \"mistral:7b\""
   ],
   "outputs": [],
   "execution_count": 3
  },
  {
   "cell_type": "code",
   "id": "56e2e9d2-2c37-44f7-8afb-b32d333aa376",
   "metadata": {
    "ExecuteTime": {
     "end_time": "2025-08-07T02:58:46.488772Z",
     "start_time": "2025-08-07T02:58:46.481409Z"
    }
   },
   "source": [
    "headers = {\n",
    " \"User-Agent\": \"Mozilla/5.0 (Windows NT 10.0; Win64; x64) AppleWebKit/537.36 (KHTML, like Gecko) Chrome/117.0.0.0 Safari/537.36\"\n",
    "}\n",
    "\n",
    "class Website:\n",
    "\n",
    "    def __init__(self, url):\n",
    "        self.url = url\n",
    "        response = requests.get(url, headers)\n",
    "        self.body = response.content\n",
    "        soup = BeautifulSoup(self.body, \"html.parser\")\n",
    "        self.title = soup.title.string if soup.title else \"No title found\"\n",
    "        if soup.body:\n",
    "            for irrelevant in soup.body([\"script\", \"style\", \"img\", \"input\"]):\n",
    "                irrelevant.decompose()\n",
    "            self.text = soup.body.get_text(separator=\"\\n\", strip=True)\n",
    "        else:\n",
    "            self.text = \"\"\n",
    "        links = [link.get('href') for link in soup.find_all('a')]\n",
    "        self.links = [link for link in links if link]\n",
    "        \n",
    "    def get_contents(self):\n",
    "        return f\"Webpage Title:\\n{self.title}\\nWebpage Contents:\\n{self.text}\\n\\n\""
   ],
   "outputs": [],
   "execution_count": 4
  },
  {
   "cell_type": "code",
   "id": "183d0932-9550-45f9-8636-f2feb1101217",
   "metadata": {
    "ExecuteTime": {
     "end_time": "2025-08-07T02:58:46.535854Z",
     "start_time": "2025-08-07T02:58:46.531661Z"
    }
   },
   "source": [
    "link_system_prompt = \"You are provided with a list of links found on a webpage. \\\n",
    "You are able to decide which of the links would be most relevant to include in a brochure about the company, \\\n",
    "such as links to an About page, or a Company page, or Careers/Jobs pages.\\n\"\n",
    "link_system_prompt += \"You should respond in JSON as in this example:\"\n",
    "link_system_prompt += \"\"\"\n",
    "{\n",
    "    \"links\": [\n",
    "        {\"type\": \"about page\", \"url\": \"https://full.url/goes/here/about\"},\n",
    "        {\"type\": \"careers page\", \"url\": \"https://another.full.url/careers\"}\n",
    "    ]\n",
    "}\n",
    "\"\"\""
   ],
   "outputs": [],
   "execution_count": 5
  },
  {
   "cell_type": "code",
   "id": "3cdae317-bcdb-431e-9395-9dbbd833185a",
   "metadata": {
    "ExecuteTime": {
     "end_time": "2025-08-07T02:58:46.589861Z",
     "start_time": "2025-08-07T02:58:46.586295Z"
    }
   },
   "source": [
    "def get_links_user_prompt(website):\n",
    "    user_prompt = f\"Here is the list of links on the website of {website.url} - \"\n",
    "    user_prompt += \"please decide which of these are relevant web links for a brochure about the company, respond with the full https URL in JSON format. \\\n",
    "Do not include Terms of Service, Privacy, email links.\\n\"\n",
    "    user_prompt += \"Links (some might be relative links):\\n\"\n",
    "    user_prompt += \"\\n\".join(website.links)\n",
    "    return user_prompt"
   ],
   "outputs": [],
   "execution_count": 6
  },
  {
   "cell_type": "code",
   "id": "756ec66e-b4e9-4f61-839c-01901d3dea04",
   "metadata": {
    "ExecuteTime": {
     "end_time": "2025-08-07T02:58:46.637462Z",
     "start_time": "2025-08-07T02:58:46.633982Z"
    }
   },
   "source": [
    "def get_links(url):\n",
    "    website = Website(url)\n",
    "    response= ollama.chat(\n",
    "        model=MODEL,\n",
    "        messages=[\n",
    "            {\"role\": \"system\", \"content\": link_system_prompt},\n",
    "            {\"role\": \"user\", \"content\": get_links_user_prompt(website)}\n",
    "      ]\n",
    "    )\n",
    "    result = response['message']['content']\n",
    "    return json.loads(result)\n",
    "\n"
   ],
   "outputs": [],
   "execution_count": 7
  },
  {
   "cell_type": "code",
   "id": "6be1b76d-b999-455b-a58d-c5c000f2edc3",
   "metadata": {
    "ExecuteTime": {
     "end_time": "2025-08-07T02:58:46.686838Z",
     "start_time": "2025-08-07T02:58:46.683523Z"
    }
   },
   "source": [
    "def get_all_details (url):\n",
    "    result = \"Landing page:\\n\"\n",
    "    result += Website(url).get_contents()\n",
    "    links = get_links(url)\n",
    "    print(\"Found links:\", links)\n",
    "    for link in links[\"links\"]:\n",
    "        result += f\"\\n\\n{link['type']}\\n\"\n",
    "        result += Website(link[\"url\"]).get_contents()\n",
    "    return result\n"
   ],
   "outputs": [],
   "execution_count": 8
  },
  {
   "cell_type": "code",
   "id": "ee17777a-02ae-40b0-8fba-7dd3a0e99c43",
   "metadata": {
    "ExecuteTime": {
     "end_time": "2025-08-07T02:58:46.736663Z",
     "start_time": "2025-08-07T02:58:46.733176Z"
    }
   },
   "source": [
    "system_prompt = \"You are an assistant that analyzes the contents of several relevant pages from a company website \\\n",
    "and creates a short brochure about the company for prospective customers, investors and recruits. Respond in markdown.\\\n",
    "Include details of company culture, customers and careers/jobs if you have the information.\""
   ],
   "outputs": [],
   "execution_count": 9
  },
  {
   "cell_type": "code",
   "id": "c5189b60-b2b9-4761-8235-e9d94c9049e6",
   "metadata": {
    "ExecuteTime": {
     "end_time": "2025-08-07T02:58:46.789539Z",
     "start_time": "2025-08-07T02:58:46.785136Z"
    }
   },
   "source": [
    "def get_brochure_user_prompt(company_name, url):\n",
    "    user_prompt = f\"You are looking at a company called: {company_name}\\n\"\n",
    "    user_prompt += f\"Here are the contents of its landing page and other relevant pages; use this information to build a short brochure of the company in markdown.\\n\"\n",
    "    user_prompt += get_all_details(url)\n",
    "    user_prompt = user_prompt[:5_000]\n",
    "    return user_prompt"
   ],
   "outputs": [],
   "execution_count": 10
  },
  {
   "cell_type": "code",
   "id": "aa7c3367-bd7c-4896-9dce-a9f2649ed578",
   "metadata": {
    "ExecuteTime": {
     "end_time": "2025-08-07T02:58:46.838316Z",
     "start_time": "2025-08-07T02:58:46.835369Z"
    }
   },
   "source": [
    "def create_brochure(company_name, url):\n",
    "    response = ollama.chat(\n",
    "        model=MODEL,\n",
    "        messages=[\n",
    "            {\"role\": \"system\", \"content\": system_prompt},\n",
    "            {\"role\": \"user\", \"content\": get_brochure_user_prompt(company_name, url)}\n",
    "          ]\n",
    "    )\n",
    "    result = response['message']['content']\n",
    "    display(Markdown(result))\n",
    "    return result\n"
   ],
   "outputs": [],
   "execution_count": 11
  },
  {
   "metadata": {
    "ExecuteTime": {
     "end_time": "2025-08-07T03:00:19.152822Z",
     "start_time": "2025-08-07T03:00:18.928423Z"
    }
   },
   "cell_type": "code",
   "source": [
    "force_dark_mode = \"\"\"\n",
    "() => {\n",
    "    const url = new URL(window.location);\n",
    "    if (url.searchParams.get('__theme') !== 'dark') {\n",
    "        url.searchParams.set('__theme', 'dark');\n",
    "        window.location.href = url.href;\n",
    "    }\n",
    "}\n",
    "\"\"\"\n",
    "\n",
    "gr.Interface(\n",
    "    fn=create_brochure,\n",
    "    inputs=[\"textbox\", \"textbox\"],\n",
    "     outputs=[gr.Markdown(label=\"Response:\")],\n",
    "    js=force_dark_mode\n",
    ").launch()"
   ],
   "id": "765f95bb25537c00",
   "outputs": [
    {
     "name": "stdout",
     "output_type": "stream",
     "text": [
      "* Running on local URL:  http://127.0.0.1:7861\n",
      "* To create a public link, set `share=True` in `launch()`.\n"
     ]
    },
    {
     "data": {
      "text/plain": [
       "<IPython.core.display.HTML object>"
      ],
      "text/html": [
       "<div><iframe src=\"http://127.0.0.1:7861/\" width=\"100%\" height=\"500\" allow=\"autoplay; camera; microphone; clipboard-read; clipboard-write;\" frameborder=\"0\" allowfullscreen></iframe></div>"
      ]
     },
     "metadata": {},
     "output_type": "display_data"
    },
    {
     "data": {
      "text/plain": []
     },
     "execution_count": 13,
     "metadata": {},
     "output_type": "execute_result"
    }
   ],
   "execution_count": 13
  },
  {
   "metadata": {
    "ExecuteTime": {
     "end_time": "2025-08-07T03:29:57.889138Z",
     "start_time": "2025-08-07T03:22:54.150920Z"
    }
   },
   "cell_type": "code",
   "source": "create_brochure(\"HuggingFace\", \"https://huggingface.co\")",
   "id": "0d9e1d6b-c401-4853-9887-744494461cdc",
   "outputs": [
    {
     "name": "stdout",
     "output_type": "stream",
     "text": [
      "Found links: {'links': [{'type': 'about page', 'url': 'https://huggingface.co/'}, {'type': 'careers page', 'url': 'https://apply.workable.com/huggingface/'}, {'type': 'company page', 'url': 'https://www.linkedin.com/company/huggingface/'}, {'type': 'docs', 'url': 'https://huggingface.co/docs'}, {'type': 'blog', 'url': 'https://huggingface.co/blog'}, {'type': 'discussion forum', 'url': 'https://discuss.huggingface.co/'}, {'type': 'status page', 'url': 'https://status.huggingface.co/'}, {'type': 'github', 'url': 'https://github.com/huggingface'}, {'type': 'twitter', 'url': 'https://twitter.com/huggingface'}, {'type': 'join discord', 'url': 'https://discord.gg/huggingface'}]}\n"
     ]
    },
    {
     "data": {
      "text/plain": [
       "<IPython.core.display.Markdown object>"
      ],
      "text/markdown": " # Hugging Face Brochure\n\nWelcome to **Hugging Face**, the AI community building the future.\n\n**Company Overview**\n\nHugging Face is a platform that brings together the machine learning community, fostering collaboration on models, datasets, and applications. Our mission is to make AI accessible to everyone by providing an open-source stack that enables exploration of various modalities such as text, image, video, audio, and 3D.\n\n**Culture**\n\nWe are a vibrant, inclusive community driven by the shared passion for AI and its potential. We believe in collaboration, transparency, and the power of open source. Our platform hosts over 50,000 organizations, from startups to tech giants like Meta, Google, Microsoft, and more.\n\n**Customers**\n\nOur platform caters to a diverse range of users, from individual AI enthusiasts to large enterprises seeking to accelerate their machine learning efforts. Our customers include companies such as Grammarly and Writer, as well as non-profit organizations like AI2.\n\n**Careers/Jobs**\n\nJoin our team and be part of the future of AI! We offer a wide range of opportunities for engineers, designers, researchers, and more. With us, you'll work on cutting-edge projects, collaborate with top minds in the field, and make a real impact.\n\n**Products & Services**\n\n1. **Models**: Access and use over 1 million pre-trained models from various developers on our platform. Our trending models include openai/gpt-oss-120b and openai/gpt-oss-20b.\n\n2. **Datasets**: Browse and share over 250,000 datasets for various machine learning tasks. Examples include spatialverse/InteriorGS and nvidia/Nemotron-Post-Training-Dataset-v1.\n\n3. **Spaces**: Build and deploy your AI applications on our platform with ease. Our currently running spaces include DeepSite v2, Qwen Image, FLUX.1 Krea Dev, and more.\n\n4. **Enterprise Solutions**: For businesses needing more advanced capabilities, we offer paid compute solutions with dedicated support and enterprise-grade security. Our pricing starts at $0.60/hour for GPU.\n\n5. **Open Source Projects**: We are committed to building the foundation of ML tooling with the community. Our open source projects include Transformers, Tokenizers, Datasets, and more.\n\n**Getting Started**\n\nStart your journey with Hugging Face today! Sign up for free and get started on your AI adventure. Whether you're a seasoned professional or just starting out, there's something for everyone at Hugging Face.\n\nJoin us in building the future of AI! 🚀"
     },
     "metadata": {},
     "output_type": "display_data"
    },
    {
     "data": {
      "text/plain": [
       "\" # Hugging Face Brochure\\n\\nWelcome to **Hugging Face**, the AI community building the future.\\n\\n**Company Overview**\\n\\nHugging Face is a platform that brings together the machine learning community, fostering collaboration on models, datasets, and applications. Our mission is to make AI accessible to everyone by providing an open-source stack that enables exploration of various modalities such as text, image, video, audio, and 3D.\\n\\n**Culture**\\n\\nWe are a vibrant, inclusive community driven by the shared passion for AI and its potential. We believe in collaboration, transparency, and the power of open source. Our platform hosts over 50,000 organizations, from startups to tech giants like Meta, Google, Microsoft, and more.\\n\\n**Customers**\\n\\nOur platform caters to a diverse range of users, from individual AI enthusiasts to large enterprises seeking to accelerate their machine learning efforts. Our customers include companies such as Grammarly and Writer, as well as non-profit organizations like AI2.\\n\\n**Careers/Jobs**\\n\\nJoin our team and be part of the future of AI! We offer a wide range of opportunities for engineers, designers, researchers, and more. With us, you'll work on cutting-edge projects, collaborate with top minds in the field, and make a real impact.\\n\\n**Products & Services**\\n\\n1. **Models**: Access and use over 1 million pre-trained models from various developers on our platform. Our trending models include openai/gpt-oss-120b and openai/gpt-oss-20b.\\n\\n2. **Datasets**: Browse and share over 250,000 datasets for various machine learning tasks. Examples include spatialverse/InteriorGS and nvidia/Nemotron-Post-Training-Dataset-v1.\\n\\n3. **Spaces**: Build and deploy your AI applications on our platform with ease. Our currently running spaces include DeepSite v2, Qwen Image, FLUX.1 Krea Dev, and more.\\n\\n4. **Enterprise Solutions**: For businesses needing more advanced capabilities, we offer paid compute solutions with dedicated support and enterprise-grade security. Our pricing starts at $0.60/hour for GPU.\\n\\n5. **Open Source Projects**: We are committed to building the foundation of ML tooling with the community. Our open source projects include Transformers, Tokenizers, Datasets, and more.\\n\\n**Getting Started**\\n\\nStart your journey with Hugging Face today! Sign up for free and get started on your AI adventure. Whether you're a seasoned professional or just starting out, there's something for everyone at Hugging Face.\\n\\nJoin us in building the future of AI! 🚀\""
      ]
     },
     "execution_count": 14,
     "metadata": {},
     "output_type": "execute_result"
    }
   ],
   "execution_count": 14
  }
 ],
 "metadata": {
  "kernelspec": {
   "display_name": "Python 3 (ipykernel)",
   "language": "python",
   "name": "python3"
  },
  "language_info": {
   "codemirror_mode": {
    "name": "ipython",
    "version": 3
   },
   "file_extension": ".py",
   "mimetype": "text/x-python",
   "name": "python",
   "nbconvert_exporter": "python",
   "pygments_lexer": "ipython3",
   "version": "3.11.13"
  }
 },
 "nbformat": 4,
 "nbformat_minor": 5
}
